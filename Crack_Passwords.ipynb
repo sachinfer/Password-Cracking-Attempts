{
  "cells": [
    {
      "cell_type": "code",
      "execution_count": null,
      "metadata": {
        "id": "LqStZC2o8Lg1"
      },
      "outputs": [],
      "source": [
        "import random\n",
        "import string"
      ]
    },
    {
      "cell_type": "code",
      "execution_count": null,
      "metadata": {
        "colab": {
          "base_uri": "https://localhost:8080/"
        },
        "id": "87wiMVko8P7L",
        "outputId": "423ee148-64dd-49a2-d69d-fa3ff8a7c697"
      },
      "outputs": [
        {
          "output_type": "stream",
          "name": "stdout",
          "text": [
            "Enter Your Password: a\n",
            "Cracking password....\n",
            "in progress  Cracking password....\n",
            "The password cracked in 15 attempts.\n"
          ]
        }
      ],
      "source": [
        "def crack_password(password):\n",
        "    attempts = 0\n",
        "    while True:\n",
        "        guess = ''.join(random.choices(string.ascii_letters + string.digits, k=len(password)))\n",
        "        attempts += 1\n",
        "        if guess == password:\n",
        "            return attempts\n",
        "\n",
        "password = input(\"Enter Your Password: \")\n",
        "\n",
        "print(\"Cracking password....\")\n",
        "print(\"in progress  Cracking password....\")\n",
        "\n",
        "attempts = crack_password(password)\n",
        "\n",
        "print(f\"The password cracked in {attempts} attempts.\")\n"
      ]
    },
    {
      "cell_type": "code",
      "source": [
        "import random\n",
        "import string\n",
        "\n",
        "def crack_password(password):\n",
        "    attempts = 0\n",
        "    interval = 1000  # Print progress every 1000 attempts\n",
        "    while True:\n",
        "        guess = ''.join(random.choices(string.ascii_letters + string.digits, k=len(password)))\n",
        "        attempts += 1\n",
        "        if guess == password:\n",
        "            return attempts\n",
        "        if attempts % interval == 0:\n",
        "            print(f\"Progress: {attempts} attempts, current guess: {guess}\")\n",
        "\n",
        "password = input(\"Enter Your Password: \")\n",
        "\n",
        "print(\"Cracking password....\")\n",
        "print(\"in progress  Cracking password....\")\n",
        "\n",
        "attempts = crack_password(password)\n",
        "\n",
        "print(f\"The password cracked in {attempts} attempts.\")\n"
      ],
      "metadata": {
        "colab": {
          "base_uri": "https://localhost:8080/"
        },
        "id": "kVYXBZk7eSo5",
        "outputId": "d76b815e-6fbe-46e8-ca5d-e10c14d3852e"
      },
      "execution_count": null,
      "outputs": [
        {
          "output_type": "stream",
          "name": "stdout",
          "text": [
            "Enter Your Password: abc\n",
            "Cracking password....\n",
            "in progress  Cracking password....\n",
            "Progress: 1000 attempts, current guess: nuJ\n",
            "Progress: 2000 attempts, current guess: RBZ\n",
            "Progress: 3000 attempts, current guess: gZC\n",
            "Progress: 4000 attempts, current guess: XLU\n",
            "Progress: 5000 attempts, current guess: uOQ\n",
            "Progress: 6000 attempts, current guess: 78N\n",
            "Progress: 7000 attempts, current guess: Vtc\n",
            "Progress: 8000 attempts, current guess: dpZ\n",
            "Progress: 9000 attempts, current guess: GPz\n",
            "Progress: 10000 attempts, current guess: TdV\n",
            "Progress: 11000 attempts, current guess: W4c\n",
            "Progress: 12000 attempts, current guess: kPK\n",
            "Progress: 13000 attempts, current guess: 2wb\n",
            "Progress: 14000 attempts, current guess: l9l\n",
            "Progress: 15000 attempts, current guess: idh\n",
            "Progress: 16000 attempts, current guess: 8Cx\n",
            "Progress: 17000 attempts, current guess: ghT\n",
            "Progress: 18000 attempts, current guess: WL4\n",
            "Progress: 19000 attempts, current guess: E7U\n",
            "Progress: 20000 attempts, current guess: 5CO\n",
            "Progress: 21000 attempts, current guess: w9W\n",
            "Progress: 22000 attempts, current guess: Cy2\n",
            "Progress: 23000 attempts, current guess: iMQ\n",
            "Progress: 24000 attempts, current guess: dhd\n",
            "Progress: 25000 attempts, current guess: Icd\n",
            "Progress: 26000 attempts, current guess: VyV\n",
            "Progress: 27000 attempts, current guess: 4b2\n",
            "Progress: 28000 attempts, current guess: Ism\n",
            "Progress: 29000 attempts, current guess: 9tf\n",
            "Progress: 30000 attempts, current guess: gwM\n",
            "Progress: 31000 attempts, current guess: CUb\n",
            "Progress: 32000 attempts, current guess: auq\n",
            "Progress: 33000 attempts, current guess: TK6\n",
            "Progress: 34000 attempts, current guess: erx\n",
            "Progress: 35000 attempts, current guess: 9kJ\n",
            "Progress: 36000 attempts, current guess: ZhQ\n",
            "Progress: 37000 attempts, current guess: hqU\n",
            "Progress: 38000 attempts, current guess: MIl\n",
            "Progress: 39000 attempts, current guess: Iq5\n",
            "Progress: 40000 attempts, current guess: PQJ\n",
            "Progress: 41000 attempts, current guess: 95s\n",
            "Progress: 42000 attempts, current guess: lvT\n",
            "Progress: 43000 attempts, current guess: 1Xh\n",
            "The password cracked in 43349 attempts.\n"
          ]
        }
      ]
    }
  ],
  "metadata": {
    "accelerator": "TPU",
    "colab": {
      "provenance": []
    },
    "kernelspec": {
      "display_name": "Python 3",
      "name": "python3"
    },
    "language_info": {
      "name": "python"
    }
  },
  "nbformat": 4,
  "nbformat_minor": 0
}